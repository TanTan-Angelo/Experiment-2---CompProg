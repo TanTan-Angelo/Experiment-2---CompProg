{
 "cells": [
  {
   "cell_type": "markdown",
   "id": "71b6b321-94d3-4433-85a5-37a7a84f2e2f",
   "metadata": {},
   "source": [
    "***EXPERIMENT 2:*** Numerical Python ***NUMPY***\n"
   ]
  },
  {
   "cell_type": "code",
   "execution_count": 11,
   "id": "4980c6d1-1a77-4350-a471-c9b3f69490fc",
   "metadata": {},
   "outputs": [],
   "source": [
    "import numpy as np"
   ]
  },
  {
   "cell_type": "code",
   "execution_count": 46,
   "id": "2c713163-2908-49df-9b75-d92a0bbc75f2",
   "metadata": {},
   "outputs": [
    {
     "name": "stdout",
     "output_type": "stream",
     "text": [
      "Array X:\n",
      " [[0.74944939 0.69720597 0.358831   0.92584958 0.90293109]\n",
      " [0.31711053 0.45983175 0.40430587 0.6400442  0.2127875 ]\n",
      " [0.09283036 0.59579767 0.06726429 0.75741911 0.44665079]\n",
      " [0.48164289 0.44103233 0.34456082 0.79647972 0.10315822]\n",
      " [0.89970166 0.02752572 0.39304409 0.6073242  0.15116189]]\n"
     ]
    }
   ],
   "source": [
    "x = np.random.random ((5,5))\n",
    "\n",
    "print(\"Array X:\\n\", x)"
   ]
  },
  {
   "cell_type": "code",
   "execution_count": 48,
   "id": "0e7d613a-2561-42e6-b843-9d1572dc4712",
   "metadata": {},
   "outputs": [
    {
     "name": "stdout",
     "output_type": "stream",
     "text": [
      "Normalized Array x:\n",
      " [[ 1.0151823   0.82196487 -0.42948354  1.66758204  1.58282013]\n",
      " [-0.58378283 -0.05594165 -0.26129897  0.61055735 -0.96961187]\n",
      " [-1.4132622   0.44691568 -1.50781593  1.04465756 -0.10469019]\n",
      " [ 0.02472481 -0.12546955 -0.48226047  1.18911961 -1.37506556]\n",
      " [ 1.57087638 -1.65478536 -0.3029496   0.48954547 -1.19752847]]\n"
     ]
    }
   ],
   "source": [
    "mean = x.mean()\n",
    "z = (x - mean) / x.std()\n",
    "\n",
    "print(\"Normalized Array x:\\n\", z)"
   ]
  },
  {
   "cell_type": "code",
   "execution_count": null,
   "id": "4a442d1d-7277-4d89-8f2a-fa309b397b9f",
   "metadata": {},
   "outputs": [],
   "source": []
  }
 ],
 "metadata": {
  "kernelspec": {
   "display_name": "Python 3 (ipykernel)",
   "language": "python",
   "name": "python3"
  },
  "language_info": {
   "codemirror_mode": {
    "name": "ipython",
    "version": 3
   },
   "file_extension": ".py",
   "mimetype": "text/x-python",
   "name": "python",
   "nbconvert_exporter": "python",
   "pygments_lexer": "ipython3",
   "version": "3.12.4"
  }
 },
 "nbformat": 4,
 "nbformat_minor": 5
}
