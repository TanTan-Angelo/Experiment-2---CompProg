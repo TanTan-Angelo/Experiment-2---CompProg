{
 "cells": [
  {
   "cell_type": "markdown",
   "id": "225f2a2f-3e3c-4349-83fa-f59881d27259",
   "metadata": {},
   "source": [
    "***EXPERIMENT 2:*** Divisible By 3"
   ]
  },
  {
   "cell_type": "code",
   "execution_count": 2,
   "id": "715b21a6-6c2e-4e33-8486-edada96b0667",
   "metadata": {},
   "outputs": [],
   "source": [
    "import numpy as np"
   ]
  },
  {
   "cell_type": "code",
   "execution_count": 42,
   "id": "1fe5b870-6a7f-4da9-9493-96a2eab6d819",
   "metadata": {},
   "outputs": [
    {
     "name": "stdout",
     "output_type": "stream",
     "text": [
      "Array of Squares: \n",
      " [[    1     4     9    16    25    36    49    64    81   100]\n",
      " [  121   144   169   196   225   256   289   324   361   400]\n",
      " [  441   484   529   576   625   676   729   784   841   900]\n",
      " [  961  1024  1089  1156  1225  1296  1369  1444  1521  1600]\n",
      " [ 1681  1764  1849  1936  2025  2116  2209  2304  2401  2500]\n",
      " [ 2601  2704  2809  2916  3025  3136  3249  3364  3481  3600]\n",
      " [ 3721  3844  3969  4096  4225  4356  4489  4624  4761  4900]\n",
      " [ 5041  5184  5329  5476  5625  5776  5929  6084  6241  6400]\n",
      " [ 6561  6724  6889  7056  7225  7396  7569  7744  7921  8100]\n",
      " [ 8281  8464  8649  8836  9025  9216  9409  9604  9801 10000]]\n",
      "\n",
      "Elements Divisible by 3: \n",
      " [[   9   36   81  144  225  324  441  576  729  900 1089]\n",
      " [1296 1521 1764 2025 2304 2601 2916 3249 3600 3969 4356]\n",
      " [4761 5184 5625 6084 6561 7056 7569 8100 8649 9216 9801]]\n"
     ]
    }
   ],
   "source": [
    "# Generate the 10 by 10 array with the squared of the first 100 integers\n",
    "int = np.arange(1,101)\n",
    "square = int ** 2\n",
    "array = np.arange(1,101).reshape(10,10)**2\n",
    "\n",
    "Div = square[square % 3 == 0].reshape(3,11)\n",
    "\n",
    "# Print the 10 by 10 array and Divisible by 3\n",
    "print(\"Array of Squares: \\n\", array)\n",
    "print(\"\\nElements Divisible by 3: \\n\", Div)"
   ]
  },
  {
   "cell_type": "code",
   "execution_count": null,
   "id": "7c8c6197-f60f-4a46-bfae-0f22a939fd06",
   "metadata": {},
   "outputs": [],
   "source": []
  }
 ],
 "metadata": {
  "kernelspec": {
   "display_name": "Python 3 (ipykernel)",
   "language": "python",
   "name": "python3"
  },
  "language_info": {
   "codemirror_mode": {
    "name": "ipython",
    "version": 3
   },
   "file_extension": ".py",
   "mimetype": "text/x-python",
   "name": "python",
   "nbconvert_exporter": "python",
   "pygments_lexer": "ipython3",
   "version": "3.12.4"
  }
 },
 "nbformat": 4,
 "nbformat_minor": 5
}
